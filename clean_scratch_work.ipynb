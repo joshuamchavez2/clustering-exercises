{
 "cells": [
  {
   "cell_type": "code",
   "execution_count": 1,
   "id": "f34e8d20",
   "metadata": {
    "scrolled": true
   },
   "outputs": [],
   "source": [
    "# Math \n",
    "from math import sqrt\n",
    "from scipy import stats\n",
    "import statistics\n",
    "import os\n",
    "\n",
    "# General\n",
    "import numpy as np\n",
    "import pandas as pd\n",
    "\n",
    "# Sklearn tools\n",
    "from sklearn.model_selection import train_test_split\n",
    "from sklearn.feature_selection import SelectKBest, f_regression\n",
    "from sklearn.impute import SimpleImputer\n",
    "\n",
    "# Sklearn Metrics\n",
    "from sklearn.metrics import classification_report\n",
    "from sklearn.metrics import confusion_matrix\n",
    "from sklearn.metrics import mean_squared_error\n",
    "from sklearn.metrics import explained_variance_score\n",
    "\n",
    "\n",
    "# Sklearn Models\n",
    "from sklearn.tree import DecisionTreeClassifier\n",
    "from sklearn.ensemble import RandomForestClassifier\n",
    "from sklearn.neighbors import KNeighborsClassifier\n",
    "from sklearn.linear_model import LinearRegression, LassoLars, TweedieRegressor\n",
    "from sklearn.preprocessing import PolynomialFeatures\n",
    "\n",
    "\n",
    "# Visuals\n",
    "import matplotlib.pyplot as plt\n",
    "import seaborn as sns\n",
    "from graphviz import Graph\n",
    "from tabulate import tabulate\n",
    "from sklearn.tree import export_graphviz\n",
    "\n",
    "# Custom Module's\n",
    "from wrangle import wrangle_zillow\n",
    "import functions\n",
    "import warnings\n",
    "warnings.filterwarnings(\"ignore\")\n",
    "\n",
    "from env import user, password, host\n",
    "\n",
    "from sklearn.model_selection import train_test_split\n",
    "from sklearn.preprocessing import MinMaxScaler\n",
    "from sklearn.metrics import explained_variance_score\n",
    "from sklearn.metrics import mean_squared_error\n",
    "\n",
    "from sklearn.model_selection import train_test_split\n",
    "from sklearn.tree import DecisionTreeClassifier\n",
    "from sklearn.tree import export_graphviz\n",
    "from sklearn.metrics import classification_report\n",
    "from sklearn.metrics import confusion_matrix\n",
    "from sklearn.ensemble import RandomForestClassifier\n",
    "from sklearn.neighbors import KNeighborsClassifier\n",
    "from sklearn.linear_model import LogisticRegression\n",
    "from sklearn.linear_model import LinearRegression, LassoLars, TweedieRegressor\n",
    "\n",
    "import sklearn.preprocessing"
   ]
  },
  {
   "cell_type": "code",
   "execution_count": 2,
   "id": "1fea7fc2",
   "metadata": {},
   "outputs": [],
   "source": [
    "#df = pd.read_csv('zillow_df.csv', index_col=0)"
   ]
  },
  {
   "cell_type": "code",
   "execution_count": 3,
   "id": "d93c5a05",
   "metadata": {},
   "outputs": [],
   "source": [
    "# df = df[df.propertylandusedesc == 'Single Family Residential']\n",
    "# df = handle_missing_values(df)\n",
    "# nulls = list(df.columns[df.isnull().sum() > 0])\n",
    "# imputer = SimpleImputer(missing_values = np.nan, strategy='most_frequent')"
   ]
  },
  {
   "cell_type": "code",
   "execution_count": 4,
   "id": "81b349bd",
   "metadata": {},
   "outputs": [],
   "source": [
    "# nulls"
   ]
  },
  {
   "cell_type": "code",
   "execution_count": null,
   "id": "641728ef",
   "metadata": {},
   "outputs": [],
   "source": []
  },
  {
   "cell_type": "code",
   "execution_count": 5,
   "id": "da4bc368",
   "metadata": {},
   "outputs": [],
   "source": [
    "# df[nulls]=imputer.fit(df[nulls])\n",
    "# df[nulls] = imputer.transform(df[nulls])"
   ]
  },
  {
   "cell_type": "code",
   "execution_count": 6,
   "id": "0121726d",
   "metadata": {},
   "outputs": [],
   "source": [
    "# imputer = imputer.fit(df[['heatingorsystemtypeid']])\n",
    "# df[['heatingorsystemtypeid']] = imputer.transform(df[['heatingorsystemtypeid']])"
   ]
  },
  {
   "cell_type": "code",
   "execution_count": 7,
   "id": "d3356da0",
   "metadata": {},
   "outputs": [],
   "source": [
    "# df['heatingorsystemtypeid'].isnull().sum()"
   ]
  },
  {
   "cell_type": "markdown",
   "id": "3fe3b675",
   "metadata": {},
   "source": [
    "# Removing columns"
   ]
  },
  {
   "cell_type": "code",
   "execution_count": 20,
   "id": "1d3bcf8b",
   "metadata": {},
   "outputs": [],
   "source": [
    "train, validate, split = wrangle_zillow()\n",
    "df = train"
   ]
  },
  {
   "cell_type": "code",
   "execution_count": 21,
   "id": "0d065a26",
   "metadata": {},
   "outputs": [],
   "source": [
    "pd.set_option(\"display.max_rows\", None, \"display.max_columns\", None) \n",
    "\n",
    "pd.reset_option(\"display.max_rows\", \"display.max_columns\")"
   ]
  },
  {
   "cell_type": "code",
   "execution_count": 22,
   "id": "1cfd368b",
   "metadata": {},
   "outputs": [],
   "source": [
    "# using fips before I drop fips\n",
    "df[\"county_name\"] = df[\"fips\"].map({6037: \"Los Angeles\", 6059: \"Orange\", 6111: \"Ventura\"})"
   ]
  },
  {
   "cell_type": "code",
   "execution_count": 24,
   "id": "deed0a41",
   "metadata": {},
   "outputs": [
    {
     "data": {
      "text/html": [
       "<div>\n",
       "<style scoped>\n",
       "    .dataframe tbody tr th:only-of-type {\n",
       "        vertical-align: middle;\n",
       "    }\n",
       "\n",
       "    .dataframe tbody tr th {\n",
       "        vertical-align: top;\n",
       "    }\n",
       "\n",
       "    .dataframe thead th {\n",
       "        text-align: right;\n",
       "    }\n",
       "</style>\n",
       "<table border=\"1\" class=\"dataframe\">\n",
       "  <thead>\n",
       "    <tr style=\"text-align: right;\">\n",
       "      <th></th>\n",
       "      <th>propertylandusetypeid</th>\n",
       "      <th>heatingorsystemtypeid</th>\n",
       "      <th>parcelid</th>\n",
       "      <th>transactiondate</th>\n",
       "      <th>id</th>\n",
       "      <th>bathroomcnt</th>\n",
       "      <th>bedroomcnt</th>\n",
       "      <th>buildingqualitytypeid</th>\n",
       "      <th>calculatedbathnbr</th>\n",
       "      <th>calculatedfinishedsquarefeet</th>\n",
       "      <th>finishedsquarefeet12</th>\n",
       "      <th>fips</th>\n",
       "      <th>fullbathcnt</th>\n",
       "      <th>latitude</th>\n",
       "      <th>longitude</th>\n",
       "      <th>lotsizesquarefeet</th>\n",
       "      <th>propertycountylandusecode</th>\n",
       "      <th>propertyzoningdesc</th>\n",
       "      <th>rawcensustractandblock</th>\n",
       "      <th>regionidcity</th>\n",
       "      <th>regionidcounty</th>\n",
       "      <th>regionidzip</th>\n",
       "      <th>roomcnt</th>\n",
       "      <th>unitcnt</th>\n",
       "      <th>yearbuilt</th>\n",
       "      <th>structuretaxvaluedollarcnt</th>\n",
       "      <th>taxvaluedollarcnt</th>\n",
       "      <th>assessmentyear</th>\n",
       "      <th>landtaxvaluedollarcnt</th>\n",
       "      <th>taxamount</th>\n",
       "      <th>censustractandblock</th>\n",
       "      <th>id.1</th>\n",
       "      <th>logerror</th>\n",
       "      <th>heatingorsystemdesc</th>\n",
       "      <th>propertylandusedesc</th>\n",
       "      <th>county_name</th>\n",
       "    </tr>\n",
       "  </thead>\n",
       "  <tbody>\n",
       "  </tbody>\n",
       "</table>\n",
       "</div>"
      ],
      "text/plain": [
       "Empty DataFrame\n",
       "Columns: [propertylandusetypeid, heatingorsystemtypeid, parcelid, transactiondate, id, bathroomcnt, bedroomcnt, buildingqualitytypeid, calculatedbathnbr, calculatedfinishedsquarefeet, finishedsquarefeet12, fips, fullbathcnt, latitude, longitude, lotsizesquarefeet, propertycountylandusecode, propertyzoningdesc, rawcensustractandblock, regionidcity, regionidcounty, regionidzip, roomcnt, unitcnt, yearbuilt, structuretaxvaluedollarcnt, taxvaluedollarcnt, assessmentyear, landtaxvaluedollarcnt, taxamount, censustractandblock, id.1, logerror, heatingorsystemdesc, propertylandusedesc, county_name]\n",
       "Index: []"
      ]
     },
     "execution_count": 24,
     "metadata": {},
     "output_type": "execute_result"
    }
   ],
   "source": [
    "df[df.duplicated()]"
   ]
  },
  {
   "cell_type": "code",
   "execution_count": 11,
   "id": "831ef4cd",
   "metadata": {},
   "outputs": [],
   "source": [
    "# columns that I personally felt have no value \n",
    "cols_to_remove = ['propertylandusetypeid', 'heatingorsystemtypeid', 'parcelid', 'buildingqualitytypeid',\\\n",
    "                  'finishedsquarefeet12', 'fullbathcnt', 'propertylandusedesc', 'id.1', 'assessmentyear',\\\n",
    "                  'structuretaxvaluedollarcnt', 'roomcnt', 'regionidcity', 'regionidcounty', 'regionidzip',\\\n",
    "                  'propertycountylandusecode', 'censustractandblock', 'landtaxvaluedollarcnt',\\\n",
    "                  'rawcensustractandblock', 'propertyzoningdesc', 'transactiondate', 'calculatedbathnbr', 'id','fips']"
   ]
  },
  {
   "cell_type": "code",
   "execution_count": 13,
   "id": "84ea184d",
   "metadata": {},
   "outputs": [],
   "source": [
    "df = functions.remove_columns(df, cols_to_remove)"
   ]
  },
  {
   "cell_type": "code",
   "execution_count": 14,
   "id": "f6a84602",
   "metadata": {},
   "outputs": [],
   "source": [
    "# removed any properties claiming to be more than 1\n",
    "selRows = df[df.unitcnt == 2.0].index\n",
    "df = df.drop(selRows, axis=0)"
   ]
  },
  {
   "cell_type": "code",
   "execution_count": 15,
   "id": "a205c426",
   "metadata": {},
   "outputs": [],
   "source": [
    "# Removing some outliers in heaters \n",
    "selRows = df[(df.heatingorsystemdesc == 'Yes') | (df.heatingorsystemdesc == 'Gravity') |\\\n",
    "(df.heatingorsystemdesc == 'Radiant') | (df.heatingorsystemdesc == 'Baseboard')|\\\n",
    "(df.heatingorsystemdesc == 'None')| (df.heatingorsystemdesc == 'Solar')].index\n",
    "df = df.drop(selRows, axis=0)"
   ]
  },
  {
   "cell_type": "code",
   "execution_count": 17,
   "id": "9bf34327",
   "metadata": {},
   "outputs": [],
   "source": [
    "df = functions.remove_columns(df, ['unitcnt'])"
   ]
  },
  {
   "cell_type": "code",
   "execution_count": 25,
   "id": "dc766a88",
   "metadata": {},
   "outputs": [
    {
     "name": "stdout",
     "output_type": "stream",
     "text": [
      "<class 'pandas.core.frame.DataFrame'>\n",
      "Int64Index: 29262 entries, 74001 to 52485\n",
      "Data columns (total 36 columns):\n",
      " #   Column                        Non-Null Count  Dtype  \n",
      "---  ------                        --------------  -----  \n",
      " 0   propertylandusetypeid         29262 non-null  float64\n",
      " 1   heatingorsystemtypeid         29262 non-null  float64\n",
      " 2   parcelid                      29262 non-null  int64  \n",
      " 3   transactiondate               29262 non-null  object \n",
      " 4   id                            29262 non-null  int64  \n",
      " 5   bathroomcnt                   29262 non-null  float64\n",
      " 6   bedroomcnt                    29262 non-null  float64\n",
      " 7   buildingqualitytypeid         29262 non-null  float64\n",
      " 8   calculatedbathnbr             29262 non-null  float64\n",
      " 9   calculatedfinishedsquarefeet  29262 non-null  float64\n",
      " 10  finishedsquarefeet12          29262 non-null  float64\n",
      " 11  fips                          29262 non-null  float64\n",
      " 12  fullbathcnt                   29262 non-null  float64\n",
      " 13  latitude                      29262 non-null  float64\n",
      " 14  longitude                     29262 non-null  float64\n",
      " 15  lotsizesquarefeet             29262 non-null  float64\n",
      " 16  propertycountylandusecode     29262 non-null  object \n",
      " 17  propertyzoningdesc            29262 non-null  object \n",
      " 18  rawcensustractandblock        29262 non-null  float64\n",
      " 19  regionidcity                  29262 non-null  float64\n",
      " 20  regionidcounty                29262 non-null  float64\n",
      " 21  regionidzip                   29262 non-null  float64\n",
      " 22  roomcnt                       29262 non-null  float64\n",
      " 23  unitcnt                       29262 non-null  float64\n",
      " 24  yearbuilt                     29262 non-null  float64\n",
      " 25  structuretaxvaluedollarcnt    29262 non-null  float64\n",
      " 26  taxvaluedollarcnt             29262 non-null  float64\n",
      " 27  assessmentyear                29262 non-null  float64\n",
      " 28  landtaxvaluedollarcnt         29262 non-null  float64\n",
      " 29  taxamount                     29262 non-null  float64\n",
      " 30  censustractandblock           29262 non-null  float64\n",
      " 31  id.1                          29262 non-null  int64  \n",
      " 32  logerror                      29262 non-null  float64\n",
      " 33  heatingorsystemdesc           29262 non-null  object \n",
      " 34  propertylandusedesc           29262 non-null  object \n",
      " 35  county_name                   29262 non-null  object \n",
      "dtypes: float64(27), int64(3), object(6)\n",
      "memory usage: 8.3+ MB\n"
     ]
    }
   ],
   "source": [
    "df.info()"
   ]
  },
  {
   "cell_type": "code",
   "execution_count": 19,
   "id": "60395b15",
   "metadata": {},
   "outputs": [
    {
     "ename": "AttributeError",
     "evalue": "module 'functions' has no attribute 'tweedie'",
     "output_type": "error",
     "traceback": [
      "\u001b[0;31m---------------------------------------------------------------------------\u001b[0m",
      "\u001b[0;31mAttributeError\u001b[0m                            Traceback (most recent call last)",
      "\u001b[0;32m<ipython-input-19-8ccc6bd06c99>\u001b[0m in \u001b[0;36m<module>\u001b[0;34m\u001b[0m\n\u001b[1;32m      7\u001b[0m \u001b[0mresults\u001b[0m \u001b[0;34m=\u001b[0m \u001b[0mpd\u001b[0m\u001b[0;34m.\u001b[0m\u001b[0mDataFrame\u001b[0m\u001b[0;34m(\u001b[0m\u001b[0;34m)\u001b[0m\u001b[0;34m\u001b[0m\u001b[0;34m\u001b[0m\u001b[0m\n\u001b[1;32m      8\u001b[0m \u001b[0;34m\u001b[0m\u001b[0m\n\u001b[0;32m----> 9\u001b[0;31m \u001b[0mresults\u001b[0m \u001b[0;34m=\u001b[0m \u001b[0mfunctions\u001b[0m\u001b[0;34m.\u001b[0m\u001b[0mtweedie\u001b[0m\u001b[0;34m(\u001b[0m\u001b[0mX_train\u001b[0m\u001b[0;34m,\u001b[0m \u001b[0my_train\u001b[0m\u001b[0;34m,\u001b[0m \u001b[0mX_validate\u001b[0m\u001b[0;34m,\u001b[0m \u001b[0my_validate\u001b[0m\u001b[0;34m,\u001b[0m \u001b[0mresults\u001b[0m\u001b[0;34m)\u001b[0m\u001b[0;34m\u001b[0m\u001b[0;34m\u001b[0m\u001b[0m\n\u001b[0m",
      "\u001b[0;31mAttributeError\u001b[0m: module 'functions' has no attribute 'tweedie'"
     ]
    }
   ],
   "source": [
    "# X_train = train[['bedroomcnt', 'bathroomcnt','calculatedfinishedsquarefeet']]\n",
    "# y_train = train[['logerror']]\n",
    "\n",
    "# X_validate = validate[['bedroomcnt', 'bathroomcnt','calculatedfinishedsquarefeet']]\n",
    "# y_validate = validate[['logerror']]\n",
    "\n",
    "# results = pd.DataFrame()\n",
    "\n",
    "# results = functions.tweedie(X_train, y_train, X_validate, y_validate, results)"
   ]
  },
  {
   "cell_type": "code",
   "execution_count": null,
   "id": "9d25736e",
   "metadata": {},
   "outputs": [],
   "source": []
  },
  {
   "cell_type": "code",
   "execution_count": null,
   "id": "ff2a40a1",
   "metadata": {},
   "outputs": [],
   "source": []
  },
  {
   "cell_type": "code",
   "execution_count": null,
   "id": "494d7273",
   "metadata": {},
   "outputs": [],
   "source": []
  }
 ],
 "metadata": {
  "kernelspec": {
   "display_name": "Python 3",
   "language": "python",
   "name": "python3"
  },
  "language_info": {
   "codemirror_mode": {
    "name": "ipython",
    "version": 3
   },
   "file_extension": ".py",
   "mimetype": "text/x-python",
   "name": "python",
   "nbconvert_exporter": "python",
   "pygments_lexer": "ipython3",
   "version": "3.8.8"
  }
 },
 "nbformat": 4,
 "nbformat_minor": 5
}
