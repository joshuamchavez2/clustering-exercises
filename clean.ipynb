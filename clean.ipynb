{
 "cells": [
  {
   "cell_type": "code",
   "execution_count": 13,
   "id": "f34e8d20",
   "metadata": {},
   "outputs": [],
   "source": [
    "# Math \n",
    "from math import sqrt\n",
    "from scipy import stats\n",
    "import statistics\n",
    "import os\n",
    "\n",
    "# General\n",
    "import numpy as np\n",
    "import pandas as pd\n",
    "\n",
    "# Sklearn tools\n",
    "from sklearn.model_selection import train_test_split\n",
    "from sklearn.feature_selection import SelectKBest, f_regression\n",
    "from sklearn.impute import SimpleImputer\n",
    "\n",
    "# Sklearn Metrics\n",
    "from sklearn.metrics import classification_report\n",
    "from sklearn.metrics import confusion_matrix\n",
    "from sklearn.metrics import mean_squared_error\n",
    "from sklearn.metrics import explained_variance_score\n",
    "\n",
    "\n",
    "# Sklearn Models\n",
    "from sklearn.tree import DecisionTreeClassifier\n",
    "from sklearn.ensemble import RandomForestClassifier\n",
    "from sklearn.neighbors import KNeighborsClassifier\n",
    "from sklearn.linear_model import LinearRegression, LassoLars, TweedieRegressor\n",
    "from sklearn.preprocessing import PolynomialFeatures\n",
    "\n",
    "\n",
    "# Visuals\n",
    "import matplotlib.pyplot as plt\n",
    "import seaborn as sns\n",
    "from graphviz import Graph\n",
    "from tabulate import tabulate\n",
    "from sklearn.tree import export_graphviz\n",
    "\n",
    "# Custom Module's\n",
    "from wrangle import wrangle_zillow\n",
    "from functions import handle_missing_values, remove_columns\n",
    "\n",
    "import warnings\n",
    "warnings.filterwarnings(\"ignore\")\n",
    "\n",
    "from env import user, password, host"
   ]
  },
  {
   "cell_type": "code",
   "execution_count": 2,
   "id": "1fea7fc2",
   "metadata": {},
   "outputs": [],
   "source": [
    "#df = pd.read_csv('zillow_df.csv', index_col=0)"
   ]
  },
  {
   "cell_type": "code",
   "execution_count": 3,
   "id": "d93c5a05",
   "metadata": {},
   "outputs": [],
   "source": [
    "# df = df[df.propertylandusedesc == 'Single Family Residential']\n",
    "# df = handle_missing_values(df)\n",
    "# nulls = list(df.columns[df.isnull().sum() > 0])\n",
    "# imputer = SimpleImputer(missing_values = np.nan, strategy='most_frequent')"
   ]
  },
  {
   "cell_type": "code",
   "execution_count": 4,
   "id": "81b349bd",
   "metadata": {},
   "outputs": [],
   "source": [
    "# nulls"
   ]
  },
  {
   "cell_type": "code",
   "execution_count": null,
   "id": "641728ef",
   "metadata": {},
   "outputs": [],
   "source": []
  },
  {
   "cell_type": "code",
   "execution_count": 5,
   "id": "da4bc368",
   "metadata": {},
   "outputs": [],
   "source": [
    "# df[nulls]=imputer.fit(df[nulls])\n",
    "# df[nulls] = imputer.transform(df[nulls])"
   ]
  },
  {
   "cell_type": "code",
   "execution_count": 6,
   "id": "0121726d",
   "metadata": {},
   "outputs": [],
   "source": [
    "# imputer = imputer.fit(df[['heatingorsystemtypeid']])\n",
    "# df[['heatingorsystemtypeid']] = imputer.transform(df[['heatingorsystemtypeid']])"
   ]
  },
  {
   "cell_type": "code",
   "execution_count": 7,
   "id": "d3356da0",
   "metadata": {},
   "outputs": [],
   "source": [
    "# df['heatingorsystemtypeid'].isnull().sum()"
   ]
  },
  {
   "cell_type": "markdown",
   "id": "3fe3b675",
   "metadata": {},
   "source": [
    "# Removing columns"
   ]
  },
  {
   "cell_type": "code",
   "execution_count": 8,
   "id": "1d3bcf8b",
   "metadata": {},
   "outputs": [],
   "source": [
    "train, validate, split = wrangle_zillow()\n",
    "df = train"
   ]
  },
  {
   "cell_type": "code",
   "execution_count": 9,
   "id": "0d065a26",
   "metadata": {},
   "outputs": [],
   "source": [
    "pd.set_option(\"display.max_rows\", None, \"display.max_columns\", None) \n",
    "\n",
    "pd.reset_option(\"display.max_rows\", \"display.max_columns\")"
   ]
  },
  {
   "cell_type": "code",
   "execution_count": 10,
   "id": "1cfd368b",
   "metadata": {},
   "outputs": [],
   "source": [
    "# using fips before I drop fips\n",
    "df[\"county_name\"] = df[\"fips\"].map({6037: \"Los Angeles\", 6059: \"Orange\", 6111: \"Ventura\"})"
   ]
  },
  {
   "cell_type": "code",
   "execution_count": 11,
   "id": "831ef4cd",
   "metadata": {},
   "outputs": [],
   "source": [
    "# columns that I personally felt have no value \n",
    "cols_to_remove = ['propertylandusetypeid', 'heatingorsystemtypeid', 'parcelid', 'buildingqualitytypeid',\\\n",
    "                  'finishedsquarefeet12', 'fullbathcnt', 'propertylandusedesc', 'id.1', 'assessmentyear',\\\n",
    "                  'structuretaxvaluedollarcnt', 'roomcnt', 'regionidcity', 'regionidcounty', 'regionidzip',\\\n",
    "                  'propertycountylandusecode', 'censustractandblock', 'landtaxvaluedollarcnt',\\\n",
    "                  'rawcensustractandblock', 'propertyzoningdesc', 'transactiondate', 'calculatedbathnbr', 'id','fips']"
   ]
  },
  {
   "cell_type": "code",
   "execution_count": 14,
   "id": "84ea184d",
   "metadata": {},
   "outputs": [],
   "source": [
    "df = remove_columns(df, cols_to_remove)"
   ]
  },
  {
   "cell_type": "code",
   "execution_count": 15,
   "id": "f6a84602",
   "metadata": {},
   "outputs": [],
   "source": [
    "# removed any properties claiming to be more than 1\n",
    "selRows = df[df.unitcnt == 2.0].index\n",
    "df = df.drop(selRows, axis=0)"
   ]
  },
  {
   "cell_type": "code",
   "execution_count": 16,
   "id": "a205c426",
   "metadata": {},
   "outputs": [],
   "source": [
    "# Removing some outliers in heaters \n",
    "selRows = df[(df.heatingorsystemdesc == 'Yes') | (df.heatingorsystemdesc == 'Gravity') |\\\n",
    "(df.heatingorsystemdesc == 'Radiant') | (df.heatingorsystemdesc == 'Baseboard')|\\\n",
    "(df.heatingorsystemdesc == 'None')| (df.heatingorsystemdesc == 'Solar')].index\n",
    "df = df.drop(selRows, axis=0)"
   ]
  },
  {
   "cell_type": "code",
   "execution_count": 18,
   "id": "9bf34327",
   "metadata": {},
   "outputs": [],
   "source": [
    "df = remove_columns(df, ['unitcnt'])"
   ]
  },
  {
   "cell_type": "code",
   "execution_count": 19,
   "id": "dc766a88",
   "metadata": {},
   "outputs": [
    {
     "name": "stdout",
     "output_type": "stream",
     "text": [
      "<class 'pandas.core.frame.DataFrame'>\n",
      "Int64Index: 29179 entries, 74001 to 52485\n",
      "Data columns (total 12 columns):\n",
      " #   Column                        Non-Null Count  Dtype  \n",
      "---  ------                        --------------  -----  \n",
      " 0   bathroomcnt                   29179 non-null  float64\n",
      " 1   bedroomcnt                    29179 non-null  float64\n",
      " 2   calculatedfinishedsquarefeet  29179 non-null  float64\n",
      " 3   latitude                      29179 non-null  float64\n",
      " 4   longitude                     29179 non-null  float64\n",
      " 5   lotsizesquarefeet             29179 non-null  float64\n",
      " 6   yearbuilt                     29179 non-null  float64\n",
      " 7   taxvaluedollarcnt             29179 non-null  float64\n",
      " 8   taxamount                     29179 non-null  float64\n",
      " 9   logerror                      29179 non-null  float64\n",
      " 10  heatingorsystemdesc           29179 non-null  object \n",
      " 11  county_name                   29179 non-null  object \n",
      "dtypes: float64(10), object(2)\n",
      "memory usage: 2.9+ MB\n"
     ]
    }
   ],
   "source": [
    "df.info()"
   ]
  },
  {
   "cell_type": "code",
   "execution_count": null,
   "id": "eda3193e",
   "metadata": {},
   "outputs": [],
   "source": []
  }
 ],
 "metadata": {
  "kernelspec": {
   "display_name": "Python 3",
   "language": "python",
   "name": "python3"
  },
  "language_info": {
   "codemirror_mode": {
    "name": "ipython",
    "version": 3
   },
   "file_extension": ".py",
   "mimetype": "text/x-python",
   "name": "python",
   "nbconvert_exporter": "python",
   "pygments_lexer": "ipython3",
   "version": "3.8.8"
  }
 },
 "nbformat": 4,
 "nbformat_minor": 5
}
